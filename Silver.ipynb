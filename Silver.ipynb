{
 "cells": [
  {
   "cell_type": "markdown",
   "id": "c44bb915-1312-4f9e-8593-0ca9bf9aba7a",
   "metadata": {},
   "source": [
    "# The main goal of this project is:\n",
    "1. How much the senators spent with benefits paid for the governament\n",
    "2. Found the company that have more sells for the senators\n",
    "3. How much employee each senators have\n",
    "4. How much participation each senators have \n",
    "5. Create a measure to get how much senators spent and how much they was participate of the votation\n",
    "6. How much cost the senators employee per year\n",
    "\n",
    "# Star Schema\n",
    "Fact table with the goals\n",
    "Dims: Senators, Companys, EmployeesCabinet, Employees, Benefits"
   ]
  },
  {
   "cell_type": "code",
   "execution_count": 1,
   "id": "54596828-d071-42ae-9aba-133699dd5f2f",
   "metadata": {},
   "outputs": [],
   "source": [
    "# Imports\n",
    "import os\n",
    "from pyspark.sql import functions as f\n",
    "from pyspark.sql.types import StructType, StructField, StringType, DoubleType, IntegerType"
   ]
  },
  {
   "cell_type": "code",
   "execution_count": 2,
   "id": "ac308e89-4e84-42b7-9282-f0b2f08aa8b9",
   "metadata": {},
   "outputs": [
    {
     "name": "stderr",
     "output_type": "stream",
     "text": [
      "22/06/20 23:36:23 WARN Utils: Your hostname, MacBook-Pro-de-Paulo-Bernardo.local resolves to a loopback address: 127.0.0.1; using 100.90.148.60 instead (on interface en0)\n",
      "22/06/20 23:36:23 WARN Utils: Set SPARK_LOCAL_IP if you need to bind to another address\n",
      "WARNING: An illegal reflective access operation has occurred\n",
      "WARNING: Illegal reflective access by org.apache.spark.unsafe.Platform (file:/Library/Frameworks/Python.framework/Versions/3.9/lib/python3.9/site-packages/pyspark/jars/spark-unsafe_2.12-3.2.1.jar) to constructor java.nio.DirectByteBuffer(long,int)\n",
      "WARNING: Please consider reporting this to the maintainers of org.apache.spark.unsafe.Platform\n",
      "WARNING: Use --illegal-access=warn to enable warnings of further illegal reflective access operations\n",
      "WARNING: All illegal access operations will be denied in a future release\n",
      "Using Spark's default log4j profile: org/apache/spark/log4j-defaults.properties\n",
      "Setting default log level to \"WARN\".\n",
      "To adjust logging level use sc.setLogLevel(newLevel). For SparkR, use setLogLevel(newLevel).\n",
      "22/06/20 23:36:24 WARN NativeCodeLoader: Unable to load native-hadoop library for your platform... using builtin-java classes where applicable\n"
     ]
    }
   ],
   "source": [
    "from pyspark.sql import SparkSession\n",
    "\n",
    "spark = SparkSession.builder.master(\"local[*]\").getOrCreate()"
   ]
  },
  {
   "cell_type": "markdown",
   "id": "e6f45629-4b13-42c1-9340-b90f6bfacd90",
   "metadata": {},
   "source": [
    "# Functions"
   ]
  },
  {
   "cell_type": "code",
   "execution_count": 5,
   "id": "c16fd2e7-3001-43c6-8153-3c3ae6b06eb7",
   "metadata": {},
   "outputs": [],
   "source": [
    "def skipRows(numberOfRowsToSkip, path):\n",
    "    return spark.sparkContext\\\n",
    "            .textFile(path) \\\n",
    "            .zipWithIndex() \\\n",
    "            .filter(lambda row: row[1] >= numberOfRowsToSkip) \\\n",
    "            .map(lambda row: row[0])"
   ]
  },
  {
   "cell_type": "markdown",
   "id": "79766716-bb05-4720-9b6f-b0aa0ac0cf42",
   "metadata": {},
   "source": [
    "# List all remuneration and write in silver layer"
   ]
  },
  {
   "cell_type": "code",
   "execution_count": 6,
   "id": "ab305de9-fed7-4fe8-a86c-824c32c99458",
   "metadata": {},
   "outputs": [
    {
     "name": "stdout",
     "output_type": "stream",
     "text": [
      "+---+----------------+------------+-----------------------+------------+----------+----------------+-------------+---------------------+\n",
      "|_c0|codigoPalamentar|CodigoSessao|CodigoSessaoLegislativa|NumeroSessao|DataSessao|HoraInicioSessao|CodigoMateria|IdentificacaoProcesso|\n",
      "+---+----------------+------------+-----------------------+------------+----------+----------------+-------------+---------------------+\n",
      "|0  |4981            |248238      |865                    |106         |2021-09-02|16:00:00        |148281       |8073180              |\n",
      "|1  |4981            |20633       |842                    |247         |2009-12-15|14:00:00        |88888        |3021274              |\n",
      "|2  |4981            |20635       |842                    |248         |2009-12-16|14:00:00        |87198        |2049031              |\n",
      "|3  |4981            |20635       |842                    |248         |2009-12-16|14:00:00        |82930        |644136               |\n",
      "|4  |4981            |20635       |842                    |248         |2009-12-16|14:00:00        |82930        |644136               |\n",
      "|5  |4981            |21608       |847                    |115         |2013-07-10|14:00:00        |56281        |1420425              |\n",
      "|6  |4981            |21608       |847                    |115         |2013-07-10|14:00:00        |56281        |1420425              |\n",
      "|7  |4981            |38574       |854                    |46          |2017-04-19|14:00:00        |85326        |2971691              |\n",
      "|8  |4981            |92361       |858                    |46          |2019-04-09|14:00:00        |121353       |1400098              |\n",
      "|9  |4981            |92361       |858                    |46          |2019-04-09|14:00:00        |121353       |1400098              |\n",
      "|10 |4981            |79916       |856                    |146         |2018-12-04|14:00:00        |134425       |7693349              |\n",
      "|11 |4981            |79916       |856                    |146         |2018-12-04|14:00:00        |134723       |7700663              |\n",
      "|12 |4981            |70361       |856                    |97          |2018-06-20|13:00:00        |133343       |7392057              |\n",
      "|13 |4981            |70361       |856                    |97          |2018-06-20|13:00:00        |133484       |7396516              |\n",
      "|14 |4981            |134379      |858                    |193         |2019-10-15|14:00:00        |138203       |7790752              |\n",
      "|15 |4981            |134379      |858                    |193         |2019-10-15|14:00:00        |139277       |7822548              |\n",
      "|16 |4981            |119679      |858                    |146         |2019-08-27|14:00:00        |137056       |7759183              |\n",
      "|17 |4981            |119679      |858                    |146         |2019-08-27|14:00:00        |137808       |7781081              |\n",
      "|18 |4981            |87835       |858                    |21          |2019-03-13|14:00:00        |135603       |7725776              |\n",
      "|19 |4981            |75002       |856                    |122         |2018-10-17|15:00:00        |133666       |7402345              |\n",
      "+---+----------------+------------+-----------------------+------------+----------+----------------+-------------+---------------------+\n",
      "only showing top 20 rows\n",
      "\n"
     ]
    }
   ],
   "source": [
    "spark.read.csv(\"database/bronze/votation_by_senator/votation_per_senator.csv\", header=True).show(truncate=False)"
   ]
  },
  {
   "cell_type": "code",
   "execution_count": 42,
   "id": "a0870016-5175-493c-a7e8-af7dc23c330d",
   "metadata": {},
   "outputs": [],
   "source": [
    "years = [\"2012\", \"2013\", \"2014\", \"2015\", \"2016\", \"2017\", \"2018\", \"2019\", \"2020\", \"2021\"]\n",
    "\n",
    "first_entrance = True\n",
    "\n",
    "for year in years:\n",
    "    path = f\"database/bronze/civil_servants_remuneration/{year}\"\n",
    "    #rdd = skipRows(1, path)\n",
    "    df = spark.read.csv(path, \n",
    "                   encoding=\"ISO-8859-1\", header=True, comment= \"Ú\", sep=\";\", \n",
    "                   ignoreLeadingWhiteSpace=True, ignoreTrailingWhiteSpace=True\n",
    "                  )\n",
    "    df = df.withColumn(\"FILE_YEAR\", f.lit(year))\n",
    "    if first_entrance:\n",
    "        first_entrance = False\n",
    "        output_df = df\n",
    "    else:\n",
    "        output_df = output_df.union(df)"
   ]
  },
  {
   "cell_type": "code",
   "execution_count": 51,
   "id": "75c07e3d-0654-4b9e-b9c0-a4777dcb205a",
   "metadata": {},
   "outputs": [],
   "source": [
    "output_df = spark.read.csv(\"database/bronze/remuneration\", \n",
    "                   encoding=\"ISO-8859-1\", header=True, comment= \"Ú\", sep=\";\", \n",
    "                   ignoreLeadingWhiteSpace=True, ignoreTrailingWhiteSpace=True\n",
    "                  )\n",
    "output_df = output_df.withColumn(\"FILE_YEAR\", f.lit(2022))"
   ]
  },
  {
   "cell_type": "code",
   "execution_count": 52,
   "id": "1dea0035-ec83-435b-bff5-435cf9738f7b",
   "metadata": {},
   "outputs": [],
   "source": [
    "output_df_columns_renamed = output_df.select(f.col(\"VÍNCULO\").alias(\"VINCULO\"),\n",
    "                \"CATEGORIA\", \n",
    "                 \"CARGO\", \n",
    "                 f.col(\"REFERÊNCIA CARGO\").alias(\"REFERENCIA_CARGO\"),\n",
    "                f.col(\"SÍMBOLO FUNÇÃO\").alias(\"SIMBOLO_FUNCAO\"),\n",
    "                f.col(\"ANO EXERCÍCIO\").alias(\"ANO_EXERCICIO\"),\n",
    "                f.col(\"LOTAÇÃO EXERCÍCIO\").alias(\"LOTACAO_EXERCICIO\"),\n",
    "                f.col(\"TIPO FOLHA\").alias(\"TIPO_FOLHA\"),\n",
    "                f.col(\"REMUN_BASICA\"),\n",
    "                f.col(\"VANT_PESSOAIS\"),\n",
    "                f.col(\"FUNC_COMISSIONADA\"),\n",
    "                f.col(\"GRAT_NATALINA\"),\n",
    "                f.col(\"HORAS_EXTRAS\"),\n",
    "                f.col(\"OUTRAS_EVENTUAIS\"),\n",
    "                f.col(\"ABONO_PERMANENCIA\"),\n",
    "                f.col(\"REVERSAO_TETO_CONST\"),\n",
    "                f.col(\"IMPOSTO_RENDA\"),\n",
    "                f.col(\"PREVIDENCIA\"),\n",
    "                f.col(\"FALTAS\"),\n",
    "                f.col(\"REM_LIQUIDA\"),\n",
    "                f.col(\"DIARIAS\"),\n",
    "                f.col(\"AUXILIOS\"),\n",
    "                f.col(\"VANT_INDENIZATORIAS\"),\n",
    "                 f.col(\"FILE_YEAR\"))"
   ]
  },
  {
   "cell_type": "code",
   "execution_count": 53,
   "id": "89b21f53-c6ba-42f1-8234-f7c8db85bfbf",
   "metadata": {},
   "outputs": [],
   "source": [
    "cols_to_double = [\"REMUN_BASICA\", \n",
    "    \"VANT_PESSOAIS\", \n",
    "    \"FUNC_COMISSIONADA\", \n",
    "    \"GRAT_NATALINA\", \n",
    "    \"HORAS_EXTRAS\", \n",
    "    \"OUTRAS_EVENTUAIS\", \n",
    "    \"ABONO_PERMANENCIA\", \n",
    "    \"REVERSAO_TETO_CONST\", \n",
    "    \"IMPOSTO_RENDA\", \n",
    "    \"PREVIDENCIA\", \n",
    "    \"FALTAS\", \n",
    "    \"REM_LIQUIDA\", \n",
    "    \"DIARIAS\", \n",
    "    \"AUXILIOS\", \n",
    "    \"VANT_INDENIZATORIAS\"]\n",
    "\n",
    "for col in cols_to_double:\n",
    "    output_df_columns_renamed = output_df_columns_renamed.withColumn(col, f.regexp_replace(col, \",\", \".\").cast(\"double\"))"
   ]
  },
  {
   "cell_type": "code",
   "execution_count": 54,
   "id": "f88e4d8a-36af-4490-8531-022522152de4",
   "metadata": {},
   "outputs": [],
   "source": [
    "output_df_columns_renamed.repartition(1).write.mode('overwrite').parquet(\"database/silver/remuneration/\")"
   ]
  },
  {
   "cell_type": "code",
   "execution_count": 46,
   "id": "d2d89350-5285-4b9b-ae18-064cf14c08b3",
   "metadata": {},
   "outputs": [
    {
     "name": "stdout",
     "output_type": "stream",
     "text": [
      "root\n",
      " |-- VINCULO: string (nullable = true)\n",
      " |-- CATEGORIA: string (nullable = true)\n",
      " |-- CARGO: string (nullable = true)\n",
      " |-- REFERENCIA_CARGO: string (nullable = true)\n",
      " |-- SIMBOLO_FUNCAO: string (nullable = true)\n",
      " |-- ANO_EXERCICIO: string (nullable = true)\n",
      " |-- LOTACAO_EXERCICIO: string (nullable = true)\n",
      " |-- TIPO_FOLHA: string (nullable = true)\n",
      " |-- REMUN_BASICA: double (nullable = true)\n",
      " |-- VANT_PESSOAIS: double (nullable = true)\n",
      " |-- FUNC_COMISSIONADA: double (nullable = true)\n",
      " |-- GRAT_NATALINA: double (nullable = true)\n",
      " |-- HORAS_EXTRAS: double (nullable = true)\n",
      " |-- OUTRAS_EVENTUAIS: double (nullable = true)\n",
      " |-- ABONO_PERMANENCIA: double (nullable = true)\n",
      " |-- REVERSAO_TETO_CONST: double (nullable = true)\n",
      " |-- IMPOSTO_RENDA: double (nullable = true)\n",
      " |-- PREVIDENCIA: double (nullable = true)\n",
      " |-- FALTAS: double (nullable = true)\n",
      " |-- REM_LIQUIDA: double (nullable = true)\n",
      " |-- DIARIAS: double (nullable = true)\n",
      " |-- AUXILIOS: double (nullable = true)\n",
      " |-- VANT_INDENIZATORIAS: double (nullable = true)\n",
      " |-- FILE_YEAR: string (nullable = false)\n",
      "\n"
     ]
    }
   ],
   "source": [
    "output_df_columns_renamed.printSchema()"
   ]
  },
  {
   "cell_type": "markdown",
   "id": "750c688e-01bd-4940-9c68-0e6dcf3e410a",
   "metadata": {},
   "source": [
    "# Write benefits"
   ]
  },
  {
   "cell_type": "code",
   "execution_count": 2,
   "id": "dcdfe749-18ff-405c-9b63-b361b480c385",
   "metadata": {},
   "outputs": [],
   "source": [
    "import pandas as pd\n",
    "import csv\n",
    "import io"
   ]
  },
  {
   "cell_type": "code",
   "execution_count": 3,
   "id": "e60ca7b1-79e0-403c-b686-e2de882d7ac7",
   "metadata": {},
   "outputs": [
    {
     "name": "stdout",
     "output_type": "stream",
     "text": [
      "<class 'str'>\n",
      "<class 'str'>\n",
      "<class 'str'>\n",
      "<class 'str'>\n",
      "<class 'str'>\n",
      "<class 'str'>\n",
      "<class 'str'>\n",
      "<class 'str'>\n",
      "<class 'str'>\n",
      "<class 'str'>\n",
      "<class 'str'>\n",
      "<class 'str'>\n",
      "<class 'str'>\n",
      "<class 'str'>\n",
      "<class 'str'>\n"
     ]
    }
   ],
   "source": [
    "for year in list(range(2008, 2023)):\n",
    "    with open(f\"database/bronze/benefits/despesa_ceaps_{year}.csv\") as file:\n",
    "        contents = file.readlines()[2:]\n",
    "        pd_series = pd.Series(contents)\n",
    "        df = pd_series.str.replace('\"', \"\", regex=False).replace('\\n', \"\", regex=True)\n",
    "        #df_csv = pd.read_csv(df[0], sep=\";\")\n",
    "        print(type(df[1]))\n",
    "        #print(type(df_csv))\n",
    "        df.to_csv(f\"database/bronze/benefits_pandas/despesa_ceaps_{year}.csv\")\n",
    "        "
   ]
  },
  {
   "cell_type": "code",
   "execution_count": 14,
   "id": "d61211e1-9d97-49e3-ac6b-107d1c17afd5",
   "metadata": {},
   "outputs": [],
   "source": [
    "for year in list(range(2008, 2023)):\n",
    "    with open(f\"database/bronze/benefits/despesa_ceaps_{year}.csv\") as file:\n",
    "        filedata = file.readlines()[1:]\n",
    "        filedata = \"\".join(filedata).replace('\"', '')\n",
    "        with open(f\"database/bronze/benefits_pandas/despesa_ceaps_{year}.csv\", 'w', encoding=\"utf-8-sig\") as file:\n",
    "              file.write(filedata)\n",
    "        \n",
    "        #df_csv = pd.read_csv(f\"database/bronze/benefits_pandas/despesa_ceaps_{year}.csv\", sep=\";\", skiprows=2)\n",
    "        #df_csv.to_csv(f\"database/bronze/benefits_pandas/despesa_ceaps_{year}.csv\", encoding=\"utf-8-sig\", sep=\";\")\n",
    "        "
   ]
  },
  {
   "cell_type": "markdown",
   "id": "bda168fc-5a5d-4b46-9527-3327b5d6a685",
   "metadata": {},
   "source": [
    "isFirstEntrance = True\n",
    "for year in list(range(2008, 2023)):\n",
    "    if isFirstEntrance:\n",
    "        pdf = pd.read_csv(f\"database/bronze/benefits/despesa_ceaps_{year}.csv\", sep = \";\", encoding=\"ISO-8859-1\", skiprows = 1, quotechar=\"\\\"\")\n",
    "        isFirstEntrance = False\n",
    "    else:\n",
    "        df = pd.read_csv(f\"database/bronze/benefits/despesa_ceaps_{year}.csv\", sep = \";\", encoding=\"ISO-8859-1\", skiprows=1, quotechar= \"\\\"\")\n",
    "        pdf = pd.concat([pdf, df])"
   ]
  },
  {
   "cell_type": "code",
   "execution_count": 15,
   "id": "b6984b61-efa1-483f-8448-60592d3f9d21",
   "metadata": {},
   "outputs": [],
   "source": [
    "\n",
    "schema = StructType([ \n",
    "    StructField(\"ANO\", StringType(),True), \\\n",
    "    StructField(\"MES\",StringType(),True), \\\n",
    "    StructField(\"SENADOR\",StringType(),True), \\\n",
    "    StructField(\"TIPO_DESPESA\",StringType(),True), \\\n",
    "    StructField(\"CNPJ_CPF\", StringType(), True), \\\n",
    "    StructField(\"FORNECEDOR\", StringType(), True), \\\n",
    "    StructField(\"DOCUMENTO\", StringType(), True), \\\n",
    "    StructField(\"DATA\", StringType(), True), \\\n",
    "    StructField(\"DETALHAMENTO\", StringType(), True), \\\n",
    "    StructField(\"VALOR_REEMBOLSADO\", StringType(), True), \\\n",
    "    StructField(\"COD_DOCUMENTO\", StringType(), True)\n",
    "  ])\n",
    "\n",
    "benefits_raw_df = spark.read.csv(f\"database/bronze/benefits_pandas/\", schema, sep = \";\", header=True)"
   ]
  },
  {
   "cell_type": "code",
   "execution_count": 16,
   "id": "fd46eaca-50f4-447f-920c-f6adb7656b43",
   "metadata": {},
   "outputs": [],
   "source": [
    "benefits_silver_df = benefits_raw_df.withColumn(\"CNPJ_CPF\", f.when(f.isnan(f.col(\"CNPJ_CPF\")), \"NONEXISTENT\").otherwise(f.col(\"CNPJ_CPF\")))\n",
    "benefits_silver_df = benefits_raw_df.withColumn(\"DOCUMENTO\", f.when(f.isnan(f.col(\"DOCUMENTO\")), \"NONEXISTENT\").otherwise(f.col(\"DOCUMENTO\")))\n",
    "benefits_silver_df = benefits_raw_df.withColumn(\"DATA\", f.when(f.isnan(f.col(\"DATA\")), \"NONEXISTENT\").otherwise(f.col(\"DATA\")))\n",
    "benefits_silver_df = benefits_raw_df.withColumn(\"VALOR_REEMBOLSADO\", f.regexp_replace(f.col(\"VALOR_REEMBOLSADO\"), \",\", \".\").cast(\"Double\"))"
   ]
  },
  {
   "cell_type": "code",
   "execution_count": 17,
   "id": "2f0d41ca-ea5a-4666-978b-12626939b4b1",
   "metadata": {},
   "outputs": [
    {
     "name": "stdout",
     "output_type": "stream",
     "text": [
      "+----+---+-------+--------------------+------------------+--------------------+--------------+----------+------------+-----------------+-------------+\n",
      "| ANO|MES|SENADOR|        TIPO_DESPESA|          CNPJ_CPF|          FORNECEDOR|     DOCUMENTO|      DATA|DETALHAMENTO|VALOR_REEMBOLSADO|COD_DOCUMENTO|\n",
      "+----+---+-------+--------------------+------------------+--------------------+--------------+----------+------------+-----------------+-------------+\n",
      "|2022|  5|ROMÁRIO|Aluguel de imóvei...|05.196.080/0001-16|Calleri Assessori...|109/00022473-0|20/04/2022|        null|          1407.56|      2179546|\n",
      "+----+---+-------+--------------------+------------------+--------------------+--------------+----------+------------+-----------------+-------------+\n",
      "\n"
     ]
    }
   ],
   "source": [
    "benefits_silver_df.where(\"COD_DOCUMENTO = 2179546\").show(truncate=True, n = 5)"
   ]
  },
  {
   "cell_type": "code",
   "execution_count": 25,
   "id": "cd0db9cc-7d16-4908-92e0-04feeff94b03",
   "metadata": {},
   "outputs": [
    {
     "name": "stdout",
     "output_type": "stream",
     "text": [
      "+------------------------------------------------------------------------------------------------------+\n",
      "|SENADOR                                                                                               |\n",
      "+------------------------------------------------------------------------------------------------------+\n",
      "|null                                                                                                  |\n",
      "| ALESSANDRA NOGUEIRA DA SILVA COSTA (Matrícula 324283, COMISSIONADO), Voo: 3722 - CGH/BSB - 22/05/2018|\n",
      "+------------------------------------------------------------------------------------------------------+\n",
      "only showing top 2 rows\n",
      "\n"
     ]
    }
   ],
   "source": [
    "benefits_silver_df.select(\"SENADOR\").drop_duplicates().orderBy(f.col(\"SENADOR\")).show(truncate=False, n = 2)"
   ]
  },
  {
   "cell_type": "code",
   "execution_count": 84,
   "id": "9d6a02ef-d98f-444c-a1e3-b6fa7af92d42",
   "metadata": {},
   "outputs": [],
   "source": [
    "benefits_silver_df.repartition(1).write.mode('overwrite').parquet(\"database/silver/benefits/\")"
   ]
  },
  {
   "cell_type": "markdown",
   "id": "d2129333-3182-4454-8d18-d4791c0ce763",
   "metadata": {},
   "source": [
    "# Write senators"
   ]
  },
  {
   "cell_type": "code",
   "execution_count": 29,
   "id": "72988e73-4eda-492c-90ac-1117e2199b57",
   "metadata": {},
   "outputs": [],
   "source": [
    "df = spark.read.csv(\"database/bronze/senators\", encoding=\"utf-8\", header=True, sep=\";\", \n",
    "                   ignoreLeadingWhiteSpace=True, ignoreTrailingWhiteSpace=True)"
   ]
  },
  {
   "cell_type": "code",
   "execution_count": 30,
   "id": "dbfb33a4-99de-495f-8b09-8e8027aae95c",
   "metadata": {},
   "outputs": [],
   "source": [
    "senators = df.select(f.col(\"index\").alias(\"row_number\"), \"codigoPalamentar\", \"NomeParlamentar\", \"NomeCompletoParlamentar\")"
   ]
  },
  {
   "cell_type": "code",
   "execution_count": 32,
   "id": "b70e1cae-1af1-4414-88bb-21783869916f",
   "metadata": {},
   "outputs": [],
   "source": [
    "senators.repartition(1).write.mode(\"overwrite\").parquet(\"database/silver/senators/\")"
   ]
  },
  {
   "cell_type": "markdown",
   "id": "87ca30e3-7fd7-4804-988e-77352538c929",
   "metadata": {},
   "source": [
    "# Write votation by senator"
   ]
  },
  {
   "cell_type": "code",
   "execution_count": 23,
   "id": "e910a450-e670-4048-b3b4-2dbc4138d589",
   "metadata": {},
   "outputs": [],
   "source": [
    "df = spark.read.csv(\"database/bronze/votation_by_senator\", encoding=\"ISO-8859-1\", header=True, sep=\",\", \n",
    "                   ignoreLeadingWhiteSpace=True, ignoreTrailingWhiteSpace=True)"
   ]
  },
  {
   "cell_type": "code",
   "execution_count": 24,
   "id": "b14a6592-4f6c-43ac-95f8-46048e49e529",
   "metadata": {},
   "outputs": [],
   "source": [
    "votation = df.select(f.col(\"_c0\").alias(\"row_number\"), \"codigoPalamentar\", \"CodigoSessao\", \"CodigoSessaoLegislativa\", \"NumeroSessao\"\n",
    "         , \"DataSessao\", \"HoraInicioSessao\", \"CodigoMateria\", \"IdentificacaoProcesso\")"
   ]
  },
  {
   "cell_type": "code",
   "execution_count": 28,
   "id": "dd579659-eee2-4118-948c-4fc2731987ac",
   "metadata": {},
   "outputs": [
    {
     "name": "stdout",
     "output_type": "stream",
     "text": [
      "+----------+\n",
      "|DataSessao|\n",
      "+----------+\n",
      "|2016-03-01|\n",
      "|2018-05-28|\n",
      "|2013-03-26|\n",
      "|2015-05-19|\n",
      "|2019-06-04|\n",
      "+----------+\n",
      "only showing top 5 rows\n",
      "\n"
     ]
    }
   ],
   "source": [
    "votation.select(\"DataSessao\").drop_duplicates().show(n=5)"
   ]
  },
  {
   "cell_type": "code",
   "execution_count": 31,
   "id": "5b4d1e03-82e5-4e5e-8465-eb36bdcb90f1",
   "metadata": {},
   "outputs": [],
   "source": [
    "votation = votation.withColumn(\"DataSessao\", f.to_date(f.col(\"DataSessao\"), \"yyyy-MM-dd\"))\n",
    "votation = votation.withColumn(\"Year\", f.year(f.col(\"DataSessao\")))"
   ]
  },
  {
   "cell_type": "code",
   "execution_count": 32,
   "id": "3f52d59f-00ca-4141-a716-e07095788a0d",
   "metadata": {},
   "outputs": [
    {
     "name": "stdout",
     "output_type": "stream",
     "text": [
      "root\n",
      " |-- row_number: string (nullable = true)\n",
      " |-- codigoPalamentar: string (nullable = true)\n",
      " |-- CodigoSessao: string (nullable = true)\n",
      " |-- CodigoSessaoLegislativa: string (nullable = true)\n",
      " |-- NumeroSessao: string (nullable = true)\n",
      " |-- DataSessao: date (nullable = true)\n",
      " |-- HoraInicioSessao: string (nullable = true)\n",
      " |-- CodigoMateria: string (nullable = true)\n",
      " |-- IdentificacaoProcesso: string (nullable = true)\n",
      " |-- Year: integer (nullable = true)\n",
      "\n"
     ]
    }
   ],
   "source": [
    "votation.printSchema()"
   ]
  },
  {
   "cell_type": "code",
   "execution_count": 33,
   "id": "fb1bda6a-3207-4290-981f-0b3267355bd9",
   "metadata": {},
   "outputs": [],
   "source": [
    "votation.repartition(1).write.mode(\"overwrite\").parquet(\"database/silver/votation_by_senator/\")"
   ]
  },
  {
   "cell_type": "code",
   "execution_count": null,
   "id": "1958e55a-cd57-4294-9942-2e37223fe0c2",
   "metadata": {},
   "outputs": [],
   "source": []
  }
 ],
 "metadata": {
  "kernelspec": {
   "display_name": "Python 3.9.13 64-bit",
   "language": "python",
   "name": "python3"
  },
  "language_info": {
   "codemirror_mode": {
    "name": "ipython",
    "version": 3
   },
   "file_extension": ".py",
   "mimetype": "text/x-python",
   "name": "python",
   "nbconvert_exporter": "python",
   "pygments_lexer": "ipython3",
   "version": "3.9.13"
  },
  "vscode": {
   "interpreter": {
    "hash": "aee8b7b246df8f9039afb4144a1f6fd8d2ca17a180786b69acc140d282b71a49"
   }
  }
 },
 "nbformat": 4,
 "nbformat_minor": 5
}
