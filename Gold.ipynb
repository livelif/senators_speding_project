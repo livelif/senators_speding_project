{
 "cells": [
  {
   "cell_type": "markdown",
   "id": "5b64f7c1-a785-4faf-842f-815f13a4120b",
   "metadata": {},
   "source": [
    "# The main goal of this project is:\n",
    "1. How much the senators spent with benefits paid for the governament\n",
    "2. Found the company that have more sells for the senators\n",
    "3. How much employee each senators have\n",
    "4. How much cost the senators employee per year\n",
    "\n",
    "# Star Schema\n",
    "Fact table with the goals\n",
    "Dims: Senators, Companies, EmployeesCabinet, Employees, Benefits"
   ]
  },
  {
   "cell_type": "markdown",
   "id": "992470f5-dd1c-4daa-9bb0-a2efbf774dea",
   "metadata": {},
   "source": [
    "# Init Project"
   ]
  },
  {
   "cell_type": "code",
   "execution_count": 1,
   "id": "c94f3178-0dd3-4859-8305-699fc8d4742c",
   "metadata": {},
   "outputs": [],
   "source": [
    "# imports\n",
    "# Imports\n",
    "import os\n",
    "\n",
    "from pyspark.sql import functions as f\n",
    "from pyspark.sql.types import StructType, StructField, StringType, DoubleType, IntegerType"
   ]
  },
  {
   "cell_type": "code",
   "execution_count": 2,
   "id": "5619ba6b-2187-473a-ace8-2f4ae43dfaeb",
   "metadata": {},
   "outputs": [
    {
     "name": "stdout",
     "output_type": "stream",
     "text": [
      "22/11/02 15:05:37 WARN Utils: Your hostname, MacBook-Pro-de-Paulo-Bernardo.local resolves to a loopback address: 127.0.0.1; using 192.168.15.4 instead (on interface en0)\n",
      "22/11/02 15:05:37 WARN Utils: Set SPARK_LOCAL_IP if you need to bind to another address\n"
     ]
    },
    {
     "name": "stderr",
     "output_type": "stream",
     "text": [
      "Setting default log level to \"WARN\".\n",
      "To adjust logging level use sc.setLogLevel(newLevel). For SparkR, use setLogLevel(newLevel).\n"
     ]
    },
    {
     "name": "stdout",
     "output_type": "stream",
     "text": [
      "22/11/02 15:05:38 WARN NativeCodeLoader: Unable to load native-hadoop library for your platform... using builtin-java classes where applicable\n"
     ]
    }
   ],
   "source": [
    "from pyspark.sql import SparkSession\n",
    "\n",
    "spark = SparkSession.builder\\\n",
    "        .master(\"local[*]\")\\\n",
    "        .appName(\"Test Setup\")\\\n",
    "        .getOrCreate()"
   ]
  },
  {
   "cell_type": "markdown",
   "id": "33b0e759-a44b-44c3-9bad-1ed0d6b9b4ba",
   "metadata": {},
   "source": [
    "# How much the senators spent with benefits paid for the governament"
   ]
  },
  {
   "cell_type": "code",
   "execution_count": 3,
   "id": "03ef55e2-8481-4827-80ea-19f0a639a937",
   "metadata": {},
   "outputs": [
    {
     "name": "stderr",
     "output_type": "stream",
     "text": [
      "                                                                                \r"
     ]
    }
   ],
   "source": [
    "senators = spark.read.parquet(\"database/silver/senators\")"
   ]
  },
  {
   "cell_type": "code",
   "execution_count": 4,
   "id": "66bf8f4d-fa10-4968-813a-028683220844",
   "metadata": {},
   "outputs": [],
   "source": [
    "benefits = spark.read.parquet(\"database/silver/benefits\")"
   ]
  },
  {
   "cell_type": "code",
   "execution_count": 5,
   "id": "297fe83f-8dc4-49ea-a7e7-29421fd812ae",
   "metadata": {},
   "outputs": [],
   "source": [
    "senators_benefits = senators.join(benefits, f.upper(f.col(\"NomeParlamentar\")) == f.upper(f.col(\"SENADOR\")), how=\"inner\")"
   ]
  },
  {
   "cell_type": "code",
   "execution_count": 6,
   "id": "3a8fbb44-6513-4526-928b-7b021b7baeec",
   "metadata": {},
   "outputs": [
    {
     "name": "stderr",
     "output_type": "stream",
     "text": [
      "                                                                                \r"
     ]
    },
    {
     "name": "stdout",
     "output_type": "stream",
     "text": [
      "+----------+----------------+---------------+-----------------------+----+---+------------+--------------------+------------------+--------------------+---------+----------+------------+-----------------+-------------+\n",
      "|row_number|codigoPalamentar|NomeParlamentar|NomeCompletoParlamentar| ANO|MES|     SENADOR|        TIPO_DESPESA|          CNPJ_CPF|          FORNECEDOR|DOCUMENTO|      DATA|DETALHAMENTO|VALOR_REEMBOLSADO|COD_DOCUMENTO|\n",
      "+----------+----------------+---------------+-----------------------+----+---+------------+--------------------+------------------+--------------------+---------+----------+------------+-----------------+-------------+\n",
      "|         0|            4981|   Acir Gurgacz|    Acir Marcos Gurgacz|2013|  1|ACIR GURGACZ|Aluguel de imóvei...|05.914.650/0001-66|CENTRAIS ELÉTRICA...|000077305|18/01/2013|        null|           214.79|       705442|\n",
      "+----------+----------------+---------------+-----------------------+----+---+------------+--------------------+------------------+--------------------+---------+----------+------------+-----------------+-------------+\n",
      "only showing top 1 row\n",
      "\n"
     ]
    }
   ],
   "source": [
    "senators_benefits.show(n=1)"
   ]
  },
  {
   "cell_type": "code",
   "execution_count": 7,
   "id": "1c470a16-a39f-41de-8d02-813bbf85dc01",
   "metadata": {},
   "outputs": [
    {
     "data": {
      "text/plain": [
       "101702"
      ]
     },
     "execution_count": 7,
     "metadata": {},
     "output_type": "execute_result"
    }
   ],
   "source": [
    "senators_benefits.count()"
   ]
  },
  {
   "cell_type": "code",
   "execution_count": 8,
   "id": "8aa4d4c3-411c-413b-9993-66944605c740",
   "metadata": {},
   "outputs": [
    {
     "name": "stderr",
     "output_type": "stream",
     "text": [
      "[Stage 10:======================================>                   (2 + 1) / 3]\r"
     ]
    },
    {
     "name": "stdout",
     "output_type": "stream",
     "text": [
      "+--------------------------------+----+------------------+\n",
      "|NomeCompletoParlamentar         |ANO |VALOR_REEMBOLSADO |\n",
      "+--------------------------------+----+------------------+\n",
      "|David Samuel Alcolumbre Tobelem |2020|513609.0          |\n",
      "|David Samuel Alcolumbre Tobelem |2021|508046.74         |\n",
      "|David Samuel Alcolumbre Tobelem |2016|472266.99000000005|\n",
      "|Sérgio de Oliveira Cunha        |2014|464327.38000000006|\n",
      "|Sérgio de Oliveira Cunha        |2013|464189.94999999995|\n",
      "|David Samuel Alcolumbre Tobelem |2017|461327.22         |\n",
      "|Sérgio de Oliveira Cunha        |2012|460001.0700000001 |\n",
      "|Antônio Mecias Pereira de Jesus |2020|447756.17         |\n",
      "|Telmário Mota de Oliveira       |2020|445444.94999999995|\n",
      "|Jader Fontenelle Barbalho       |2013|441914.39999999997|\n",
      "|Rogério Carvalho Santos         |2020|438867.0500000003 |\n",
      "|Márcio Miguel Bittar            |2021|436020.2299999999 |\n",
      "|Fernando Affonso Collor de Mello|2018|435944.08         |\n",
      "|Omar José Abdel Aziz            |2017|423114.0          |\n",
      "|Márcio Miguel Bittar            |2020|422919.82         |\n",
      "|Antônio Mecias Pereira de Jesus |2021|422892.31999999983|\n",
      "|Fernando Affonso Collor de Mello|2013|420674.4000000001 |\n",
      "|Fernando Affonso Collor de Mello|2015|420674.3999999999 |\n",
      "|Fernando Affonso Collor de Mello|2014|420674.38999999996|\n",
      "|Fernando Affonso Collor de Mello|2012|420617.89000000013|\n",
      "+--------------------------------+----+------------------+\n",
      "only showing top 20 rows\n",
      "\n"
     ]
    },
    {
     "name": "stderr",
     "output_type": "stream",
     "text": [
      "                                                                                \r"
     ]
    }
   ],
   "source": [
    "senators_spent_benefits = senators_benefits.select(\"NomeCompletoParlamentar\", \"VALOR_REEMBOLSADO\", \"ANO\")\\\n",
    "                        .groupBy(\"NomeCompletoParlamentar\", \"ANO\")\\\n",
    "                        .agg(f.sum(\"VALOR_REEMBOLSADO\").alias(\"VALOR_REEMBOLSADO\"))\\\n",
    "                        .orderBy(\"VALOR_REEMBOLSADO\", ascending=False).show(truncate=False)"
   ]
  },
  {
   "cell_type": "markdown",
   "id": "78d5067d-3230-427d-81a1-3ba5cb515f13",
   "metadata": {},
   "source": [
    "# Found the company that have more revenue for the senators"
   ]
  },
  {
   "cell_type": "code",
   "execution_count": 9,
   "id": "1314bc66-400d-4a18-8c69-3fe953ea3cba",
   "metadata": {},
   "outputs": [],
   "source": [
    "companies = benefits.select(\"CNPJ_CPF\", \"VALOR_REEMBOLSADO\", \"TIPO_DESPESA\", \"ANO\", \"MES\", \"COD_DOCUMENTO\")\n",
    "companies = companies.withColumn(\"CNPJ_CPF\", f.when(f.isnan(f.col(\"CNPJ_CPF\")), \"SEM REGISTRO\").otherwise(f.col(\"CNPJ_CPF\")))"
   ]
  },
  {
   "cell_type": "code",
   "execution_count": 10,
   "id": "51bbb5e8-2278-441e-aa29-11aed19dc537",
   "metadata": {},
   "outputs": [
    {
     "name": "stdout",
     "output_type": "stream",
     "text": [
      "(0 rows)\n",
      "\n"
     ]
    }
   ],
   "source": [
    "benefits.select(\"*\").where(\"VALOR_REEMBOLSADO = 2179546.0\").show(truncate=False, vertical=True)"
   ]
  },
  {
   "cell_type": "code",
   "execution_count": 11,
   "id": "6c6fff81-f405-496d-8ff3-d1049b07b76a",
   "metadata": {},
   "outputs": [
    {
     "name": "stdout",
     "output_type": "stream",
     "text": [
      "+------------------+-----------------+--------------------+----+---+-------------+\n",
      "|          CNPJ_CPF|VALOR_REEMBOLSADO|        TIPO_DESPESA| ANO|MES|COD_DOCUMENTO|\n",
      "+------------------+-----------------+--------------------+----+---+-------------+\n",
      "|05.914.650/0001-66|           214.79|Aluguel de imóvei...|2013|  1|       705442|\n",
      "|05.914.650/0001-66|            57.34|Aluguel de imóvei...|2013|  1|       705443|\n",
      "|    004.948.028-63|           5000.0|Aluguel de imóvei...|2013|  1|       682654|\n",
      "|76.535.764/0001-43|            398.1|Aluguel de imóvei...|2013|  1|       705441|\n",
      "|84.707.538/0001-20|           1128.0|Locomoção, hosped...|2013|  1|       682650|\n",
      "|02.012.862/0001-60|          1218.15|Passagens aéreas,...|2013|  1|       682648|\n",
      "|02.012.862/0001-60|           548.13|Passagens aéreas,...|2013|  1|       682649|\n",
      "|02.012.862/0001-60|           1935.0|Passagens aéreas,...|2013|  1|       682651|\n",
      "|02.012.862/0001-60|          1459.13|Passagens aéreas,...|2013|  1|       682652|\n",
      "|02.012.862/0001-60|          1454.95|Passagens aéreas,...|2013|  1|       682653|\n",
      "|05.914.650/0001-66|           153.65|Aluguel de imóvei...|2013|  2|       705448|\n",
      "|05.914.650/0001-66|            52.98|Aluguel de imóvei...|2013|  2|       705450|\n",
      "|    004.948.028-63|           5000.0|Aluguel de imóvei...|2013|  2|       705452|\n",
      "|76.535.764/0001-43|           301.29|Aluguel de imóvei...|2013|  2|       705447|\n",
      "|04.437.344/0001-13|           1500.0|Divulgação da ati...|2013|  2|       705444|\n",
      "|09.296.295/0001-60|           832.02|Passagens aéreas,...|2013|  2|       705449|\n",
      "|07.575.651/0001-59|          1530.64|Passagens aéreas,...|2013|  2|       691023|\n",
      "|02.012.862/0001-60|          2680.93|Passagens aéreas,...|2013|  2|       691022|\n",
      "|02.012.862/0001-60|           760.43|Passagens aéreas,...|2013|  2|       705445|\n",
      "|02.012.862/0001-60|           780.43|Passagens aéreas,...|2013|  2|       691024|\n",
      "+------------------+-----------------+--------------------+----+---+-------------+\n",
      "only showing top 20 rows\n",
      "\n"
     ]
    }
   ],
   "source": [
    "companies.show()"
   ]
  },
  {
   "cell_type": "code",
   "execution_count": 12,
   "id": "4b210820-56ae-4038-b7b6-0657a0577b10",
   "metadata": {},
   "outputs": [
    {
     "name": "stderr",
     "output_type": "stream",
     "text": [
      "[Stage 17:======================================>                   (2 + 1) / 3]\r"
     ]
    },
    {
     "name": "stdout",
     "output_type": "stream",
     "text": [
      "+------------------+--------------------------------------------------------------------------------------------------------------------------------------+----+-----------------+\n",
      "|CNPJ_CPF          |TIPO_DESPESA                                                                                                                          |ANO |VALOR_REEMBOLSADO|\n",
      "+------------------+--------------------------------------------------------------------------------------------------------------------------------------+----+-----------------+\n",
      "|29.337.655/0001-31|Divulgação da atividade parlamentar                                                                                                   |2017|270000.0         |\n",
      "|04.953.008/0001-23|Divulgação da atividade parlamentar                                                                                                   |2016|256980.0         |\n",
      "|38.006.631/0001-90|Divulgação da atividade parlamentar                                                                                                   |2015|216780.0         |\n",
      "|07.053.387/0001-93|Divulgação da atividade parlamentar                                                                                                   |2014|162400.0         |\n",
      "|01.736.567/0001-93|Contratação de consultorias, assessorias, pesquisas, trabalhos técnicos e outros serviços de apoio ao exercício do mandato parlamentar|2014|150000.0         |\n",
      "|28.130.334/0001-07|Divulgação da atividade parlamentar                                                                                                   |2015|134100.0         |\n",
      "|23.721.017/0001-33|Contratação de consultorias, assessorias, pesquisas, trabalhos técnicos e outros serviços de apoio ao exercício do mandato parlamentar|2020|120000.0         |\n",
      "|05.461.408/0001-84|Divulgação da atividade parlamentar                                                                                                   |2018|103900.0         |\n",
      "|22.233.033/0001-14|Contratação de consultorias, assessorias, pesquisas, trabalhos técnicos e outros serviços de apoio ao exercício do mandato parlamentar|2018|102000.0         |\n",
      "|28.916.527/0001-80|Contratação de consultorias, assessorias, pesquisas, trabalhos técnicos e outros serviços de apoio ao exercício do mandato parlamentar|2018|100000.0         |\n",
      "|10.176.343/0001-65|Contratação de consultorias, assessorias, pesquisas, trabalhos técnicos e outros serviços de apoio ao exercício do mandato parlamentar|2020|96250.0          |\n",
      "|05.257.771/0001-82|Contratação de consultorias, assessorias, pesquisas, trabalhos técnicos e outros serviços de apoio ao exercício do mandato parlamentar|2014|90000.0          |\n",
      "|00.971.215/0001-50|Divulgação da atividade parlamentar                                                                                                   |2012|88245.0          |\n",
      "|15.788.781/0001-06|Contratação de consultorias, assessorias, pesquisas, trabalhos técnicos e outros serviços de apoio ao exercício do mandato parlamentar|2015|85000.0          |\n",
      "|08.513.041/0001-93|Divulgação da atividade parlamentar                                                                                                   |2015|85000.0          |\n",
      "|26.485.755/0001-17|Passagens aéreas, aquáticas e terrestres nacionais                                                                                    |2013|84000.0          |\n",
      "|17.389.706/0001-90|Contratação de consultorias, assessorias, pesquisas, trabalhos técnicos e outros serviços de apoio ao exercício do mandato parlamentar|2016|80000.0          |\n",
      "|12.974.269/0001-58|Divulgação da atividade parlamentar                                                                                                   |2016|80000.0          |\n",
      "|05.461.408/0001-84|Divulgação da atividade parlamentar                                                                                                   |2016|79680.0          |\n",
      "|05.461.408/0001-84|Contratação de consultorias, assessorias, pesquisas, trabalhos técnicos e outros serviços de apoio ao exercício do mandato parlamentar|2019|79200.0          |\n",
      "+------------------+--------------------------------------------------------------------------------------------------------------------------------------+----+-----------------+\n",
      "only showing top 20 rows\n",
      "\n"
     ]
    },
    {
     "name": "stderr",
     "output_type": "stream",
     "text": [
      "                                                                                \r"
     ]
    }
   ],
   "source": [
    "companies_more_revenue_senators_and_service = companies.select(\"CNPJ_CPF\", \"VALOR_REEMBOLSADO\", \"TIPO_DESPESA\", \"ANO\")\\\n",
    "                    .groupBy(\"CNPJ_CPF\", \"TIPO_DESPESA\", \"ANO\")\\\n",
    "                    .agg(f.max(\"VALOR_REEMBOLSADO\").alias(\"VALOR_REEMBOLSADO\"))\\\n",
    "                    .orderBy(\"VALOR_REEMBOLSADO\", ascending=False).show(truncate=False)"
   ]
  },
  {
   "cell_type": "code",
   "execution_count": 13,
   "id": "30075ac0-8ae3-493d-af8f-333b5da0c8f4",
   "metadata": {},
   "outputs": [
    {
     "name": "stderr",
     "output_type": "stream",
     "text": [
      "[Stage 20:======================================>                   (2 + 1) / 3]\r"
     ]
    },
    {
     "name": "stdout",
     "output_type": "stream",
     "text": [
      "+------------------+--------------------+--------------------+\n",
      "|          CNPJ_CPF|        TIPO_DESPESA|   VALOR_REEMBOLSADO|\n",
      "+------------------+--------------------+--------------------+\n",
      "|02.012.862/0001-60|Passagens aéreas,...|1.2116719200000623E7|\n",
      "|              null|Locomoção, hosped...|   6383174.409999994|\n",
      "|07.575.651/0001-59|Passagens aéreas,...|   4565737.550000024|\n",
      "|              null|Aluguel de imóvei...|   2993505.020000001|\n",
      "|              null|Contratação de co...|   2633713.659999999|\n",
      "|02.558.157/0001-62|Aluguel de imóvei...|  1957342.9699999902|\n",
      "|02.575.829/0001-48|Passagens aéreas,...|  1719381.4199999876|\n",
      "|22.793.293/0001-44|Contratação de co...|           1520200.0|\n",
      "|              null|Divulgação da ati...|  1486625.9400000002|\n",
      "|04.850.792/0001-44|Serviços de Segur...|  1441481.0100000014|\n",
      "|03.434.532/0001-25|Locomoção, hosped...|           1266300.0|\n",
      "|06.164.253/0001-87|Passagens aéreas,...|  1155530.4200000004|\n",
      "|01.832.635/0001-18|Passagens aéreas,...|  1101089.2899999956|\n",
      "|    146.681.063-72|Aluguel de imóvei...|           1082012.1|\n",
      "|20.647.510/0001-62|Contratação de co...|           1043450.0|\n",
      "|02.053.306/0001-31|Locomoção, hosped...|   939744.6999999998|\n",
      "|37.195.146/0001-40|Contratação de co...|            891200.0|\n",
      "|41.626.169/0001-39|Locomoção, hosped...|   888165.8299999997|\n",
      "|18.007.971/0001-29|Aluguel de imóvei...|    885455.680000001|\n",
      "|33.055.400/0001-53|Contratação de co...|            880000.0|\n",
      "+------------------+--------------------+--------------------+\n",
      "only showing top 20 rows\n",
      "\n"
     ]
    },
    {
     "name": "stderr",
     "output_type": "stream",
     "text": [
      "                                                                                \r"
     ]
    }
   ],
   "source": [
    "companies_more_revenue_senators_and_service = companies.select(\"CNPJ_CPF\", \"VALOR_REEMBOLSADO\", \"TIPO_DESPESA\")\\\n",
    "                    .groupBy(\"CNPJ_CPF\", \"TIPO_DESPESA\")\\\n",
    "                    .agg(f.sum(\"VALOR_REEMBOLSADO\").alias(\"VALOR_REEMBOLSADO\"))\\\n",
    "                    .orderBy(\"VALOR_REEMBOLSADO\", ascending=False).show()"
   ]
  },
  {
   "cell_type": "markdown",
   "id": "04253a49-4dec-4955-a30a-31ab2a4aea5b",
   "metadata": {},
   "source": [
    "# How much employee each senators have"
   ]
  },
  {
   "cell_type": "code",
   "execution_count": 14,
   "id": "c51eb098-f6dc-4acb-9ce5-d2ea3799c970",
   "metadata": {},
   "outputs": [],
   "source": [
    "import pandas as pd"
   ]
  },
  {
   "cell_type": "code",
   "execution_count": 15,
   "id": "a86fa81d-df68-4d9f-b453-9b4774350287",
   "metadata": {},
   "outputs": [],
   "source": [
    "employee = spark.read.parquet(\"database/silver/remuneration\")"
   ]
  },
  {
   "cell_type": "code",
   "execution_count": 16,
   "id": "1928ee61-46fa-4a71-acd6-dcf1b1fb3f3c",
   "metadata": {},
   "outputs": [],
   "source": [
    "senators_regex_table = benefits.select(\"SENADOR\").drop_duplicates()"
   ]
  },
  {
   "cell_type": "code",
   "execution_count": 17,
   "id": "ecd7a9c8-7065-44cc-b989-0592136e2788",
   "metadata": {},
   "outputs": [],
   "source": [
    "senatorsNameList = list(senators_regex_table.toPandas()[\"SENADOR\"].dropna())\n",
    "senatorsNameRegex = \"|\".join(senatorsNameList)"
   ]
  },
  {
   "cell_type": "code",
   "execution_count": 18,
   "id": "f80d9817-facb-4899-a97d-ac1fad01a7d3",
   "metadata": {},
   "outputs": [],
   "source": [
    "employee_liquid = employee.select(\"VINCULO\", \"CATEGORIA\", \"CARGO\", \"REFERENCIA_CARGO\", \"SIMBOLO_FUNCAO\", \"ANO_EXERCICIO\", \"LOTACAO_EXERCICIO\", \"TIPO_FOLHA\", \"REM_LIQUIDA\", \"AUXILIOS\", \"FILE_YEAR\", \"ANO_EXERCICIO\")"
   ]
  },
  {
   "cell_type": "code",
   "execution_count": 19,
   "id": "40a2bc34-cfa6-473f-86c2-f4f7374d4c06",
   "metadata": {},
   "outputs": [],
   "source": [
    "employee_liquid = employee_liquid.withColumn(\"TOTAL\", f.col(\"REM_LIQUIDA\") + f.col(\"AUXILIOS\"))\n",
    "employee_liquid = employee_liquid.withColumn(\"SENADOR\", f.upper(\"LOTACAO_EXERCICIO\"))\n",
    "employee_liquid = employee_liquid.withColumn(\"SENADOR\", f.regexp_extract(\"SENADOR\", senatorsNameRegex, 0))\n",
    "employee_liquid = employee_liquid.withColumn(\"SENADOR\", f.when(f.col(\"SENADOR\") == \"\", \"SENATE SERVICES\").otherwise(f.col(\"SENADOR\")))\n",
    "employee_liquid = employee_liquid.withColumn(\"CARGO\", f.when(f.isnull(f.col(\"CARGO\")), \"NONEXISTENT\").otherwise(f.col(\"CARGO\")))"
   ]
  },
  {
   "cell_type": "code",
   "execution_count": 20,
   "id": "41507426-a883-40ef-a37c-2fa54a9fc7a5",
   "metadata": {},
   "outputs": [
    {
     "name": "stderr",
     "output_type": "stream",
     "text": [
      "[Stage 27:>                                                         (0 + 1) / 1]\r"
     ]
    },
    {
     "name": "stdout",
     "output_type": "stream",
     "text": [
      "+------------+--------------------+-----+\n",
      "|     VINCULO|             SENADOR|count|\n",
      "+------------+--------------------+-----+\n",
      "|     EFETIVO|     SENATE SERVICES| 1798|\n",
      "|COMISSIONADO|     SENATE SERVICES| 1218|\n",
      "|COMISSIONADO|         KÁTIA ABREU|   83|\n",
      "|COMISSIONADO|        IZALCI LUCAS|   76|\n",
      "|COMISSIONADO|       LUCAS BARRETO|   68|\n",
      "|COMISSIONADO|    ROGÉRIO CARVALHO|   67|\n",
      "|COMISSIONADO|       NELSINHO TRAD|   65|\n",
      "|COMISSIONADO|       ROBERTO ROCHA|   62|\n",
      "|COMISSIONADO|           OMAR AZIZ|   61|\n",
      "|COMISSIONADO|       EDUARDO GOMES|   60|\n",
      "|COMISSIONADO|  RANDOLFE RODRIGUES|   59|\n",
      "|COMISSIONADO|     MECIAS DE JESUS|   58|\n",
      "|COMISSIONADO|       ELIZIANE GAMA|   57|\n",
      "|COMISSIONADO|    ZEQUINHA MARINHO|   56|\n",
      "|COMISSIONADO|LUIZ CARLOS DO CARMO|   54|\n",
      "|COMISSIONADO|     ELIANE NOGUEIRA|   54|\n",
      "|COMISSIONADO|      PLÍNIO VALÉRIO|   52|\n",
      "|COMISSIONADO|     FERNANDO COLLOR|   51|\n",
      "|COMISSIONADO|        OTTO ALENCAR|   51|\n",
      "|COMISSIONADO| WELLINGTON FAGUNDES|   51|\n",
      "+------------+--------------------+-----+\n",
      "only showing top 20 rows\n",
      "\n"
     ]
    },
    {
     "name": "stderr",
     "output_type": "stream",
     "text": [
      "                                                                                \r"
     ]
    }
   ],
   "source": [
    "employee_liquid.select(\"VINCULO\", \"SENADOR\", \"TOTAL\")\\\n",
    "                        .where(\"REM_LIQUIDA > 0\") \\\n",
    "                        .groupby(\"VINCULO\", \"SENADOR\")\\\n",
    "                        .agg(f.count(\"SENADOR\").alias(\"count\"))\\\n",
    "                        .orderBy(\"count\", ascending=False).show()"
   ]
  },
  {
   "cell_type": "code",
   "execution_count": 21,
   "id": "489cab50-3243-429d-a28d-479fdd889e75",
   "metadata": {},
   "outputs": [
    {
     "name": "stdout",
     "output_type": "stream",
     "text": [
      "+--------------------+-----+\n",
      "|             SENADOR|TOTAL|\n",
      "+--------------------+-----+\n",
      "|     SENATE SERVICES| 3022|\n",
      "|         KÁTIA ABREU|   85|\n",
      "|        IZALCI LUCAS|   82|\n",
      "|    ROGÉRIO CARVALHO|   73|\n",
      "|       LUCAS BARRETO|   72|\n",
      "|       ROBERTO ROCHA|   71|\n",
      "|       NELSINHO TRAD|   67|\n",
      "|       EDUARDO GOMES|   66|\n",
      "|           OMAR AZIZ|   65|\n",
      "|       ELIZIANE GAMA|   62|\n",
      "|  RANDOLFE RODRIGUES|   61|\n",
      "|     MECIAS DE JESUS|   60|\n",
      "|    ZEQUINHA MARINHO|   59|\n",
      "|     ELIANE NOGUEIRA|   58|\n",
      "|      PLÍNIO VALÉRIO|   58|\n",
      "|LUIZ CARLOS DO CARMO|   57|\n",
      "|        OTTO ALENCAR|   55|\n",
      "| WELLINGTON FAGUNDES|   54|\n",
      "|     FERNANDO COLLOR|   54|\n",
      "|VENEZIANO VITAL D...|   53|\n",
      "+--------------------+-----+\n",
      "only showing top 20 rows\n",
      "\n"
     ]
    }
   ],
   "source": [
    "employee_liquid.select(\"SENADOR\")\\\n",
    "                        .where(\"REM_LIQUIDA > 0\")\\\n",
    "                        .groupby(\"SENADOR\")\\\n",
    "                        .agg(f.count(\"SENADOR\").alias(\"TOTAL\"))\\\n",
    "                        .orderBy(\"TOTAL\", ascending=False).show()"
   ]
  },
  {
   "cell_type": "markdown",
   "id": "c3f696e5-491e-4435-84a6-a5f9b1065b4f",
   "metadata": {},
   "source": [
    "# How much cost the senators employee per year"
   ]
  },
  {
   "cell_type": "code",
   "execution_count": 24,
   "id": "82231fcc-8eec-470f-a863-30152c7315ec",
   "metadata": {},
   "outputs": [
    {
     "name": "stderr",
     "output_type": "stream",
     "text": [
      "[Stage 37:>                                                         (0 + 1) / 1]\r"
     ]
    },
    {
     "name": "stdout",
     "output_type": "stream",
     "text": [
      "+------------+-------------------+---------+------------------+\n",
      "|     VINCULO|            SENADOR|FILE_YEAR|             TOTAL|\n",
      "+------------+-------------------+---------+------------------+\n",
      "|COMISSIONADO|      NELSINHO TRAD|     2022|465207.24000000034|\n",
      "|COMISSIONADO|       IZALCI LUCAS|     2022| 455605.4900000002|\n",
      "|COMISSIONADO|      ROBERTO ROCHA|     2022|442890.07000000024|\n",
      "|COMISSIONADO|      LUCAS BARRETO|     2022| 407766.0100000003|\n",
      "|COMISSIONADO|WELLINGTON FAGUNDES|     2022| 399503.8000000001|\n",
      "|COMISSIONADO|      EDUARDO GOMES|     2022| 374672.4600000002|\n",
      "|COMISSIONADO|    ELIANE NOGUEIRA|     2022|          369411.3|\n",
      "|COMISSIONADO|        KÁTIA ABREU|     2022|         367074.37|\n",
      "|COMISSIONADO|     MARCOS ROGÉRIO|     2022| 366343.5700000002|\n",
      "|COMISSIONADO|     ANGELO CORONEL|     2022|363337.54000000004|\n",
      "|COMISSIONADO|   ROGÉRIO CARVALHO|     2022| 361094.7800000002|\n",
      "|COMISSIONADO|    MECIAS DE JESUS|     2022| 355965.6800000001|\n",
      "|COMISSIONADO|    RENAN CALHEIROS|     2022|355070.50000000006|\n",
      "|COMISSIONADO|    RODRIGO PACHECO|     2022|          354035.3|\n",
      "|COMISSIONADO|      ELIZIANE GAMA|     2022|         348331.78|\n",
      "|COMISSIONADO|          OMAR AZIZ|     2022|         346076.54|\n",
      "|COMISSIONADO|   DANIELLA RIBEIRO|     2022| 322125.6400000001|\n",
      "|COMISSIONADO|     SÉRGIO PETECÃO|     2022|321905.13999999996|\n",
      "|COMISSIONADO|      EDUARDO BRAGA|     2022| 320903.5000000001|\n",
      "|COMISSIONADO|       ACIR GURGACZ|     2022|         318376.64|\n",
      "+------------+-------------------+---------+------------------+\n",
      "only showing top 20 rows\n",
      "\n"
     ]
    },
    {
     "name": "stderr",
     "output_type": "stream",
     "text": [
      "                                                                                \r"
     ]
    }
   ],
   "source": [
    "employee_liquid.select(\"VINCULO\", \"SENADOR\", \"TOTAL\", \"FILE_YEAR\")\\\n",
    "                        .where(\"REM_LIQUIDA > 0 AND SENADOR <> 'SENATE SERVICES'\") \\\n",
    "                        .groupby(\"VINCULO\", \"SENADOR\", \"FILE_YEAR\")\\\n",
    "                        .agg(f.sum(\"TOTAL\").alias(\"TOTAL\"))\\\n",
    "                        .orderBy(\"TOTAL\", ascending=False).show()"
   ]
  },
  {
   "cell_type": "code",
   "execution_count": null,
   "id": "3d6708b5-87e0-45fa-a291-154af34c59f6",
   "metadata": {},
   "outputs": [],
   "source": []
  }
 ],
 "metadata": {
  "kernelspec": {
   "display_name": "Python 3.9.13 ('data-pipelines-i3s506aI-py3.9')",
   "language": "python",
   "name": "python3"
  },
  "language_info": {
   "codemirror_mode": {
    "name": "ipython",
    "version": 3
   },
   "file_extension": ".py",
   "mimetype": "text/x-python",
   "name": "python",
   "nbconvert_exporter": "python",
   "pygments_lexer": "ipython3",
   "version": "3.9.13"
  },
  "vscode": {
   "interpreter": {
    "hash": "3cafc7890037a0e9a99686fb6a4e8565568d0efc1eb219781913809077281b3b"
   }
  }
 },
 "nbformat": 4,
 "nbformat_minor": 5
}
