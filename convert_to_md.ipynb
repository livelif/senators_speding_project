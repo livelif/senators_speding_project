{
 "cells": [
  {
   "cell_type": "code",
   "execution_count": 18,
   "metadata": {},
   "outputs": [],
   "source": [
    "dataframe_string = \"\"\"\n",
    "|     VINCULO|            SENADOR|FILE_YEAR|             TOTAL|\n",
    "+------------+-------------------+---------+------------------+\n",
    "|COMISSIONADO|      NELSINHO TRAD|     2022|465207.24000000034|\n",
    "|COMISSIONADO|       IZALCI LUCAS|     2022| 455605.4900000002|\n",
    "|COMISSIONADO|      ROBERTO ROCHA|     2022|442890.07000000024|\n",
    "|COMISSIONADO|      LUCAS BARRETO|     2022| 407766.0100000003|\n",
    "|COMISSIONADO|WELLINGTON FAGUNDES|     2022| 399503.8000000001|\n",
    "|COMISSIONADO|      EDUARDO GOMES|     2022| 374672.4600000002|\n",
    "|COMISSIONADO|    ELIANE NOGUEIRA|     2022|          369411.3|\n",
    "|COMISSIONADO|        KÁTIA ABREU|     2022|         367074.37|\n",
    "|COMISSIONADO|     MARCOS ROGÉRIO|     2022| 366343.5700000002|\n",
    "|COMISSIONADO|     ANGELO CORONEL|     2022|363337.54000000004|\n",
    "|COMISSIONADO|   ROGÉRIO CARVALHO|     2022| 361094.7800000002|\n",
    "|COMISSIONADO|    MECIAS DE JESUS|     2022| 355965.6800000001|\n",
    "|COMISSIONADO|    RENAN CALHEIROS|     2022|355070.50000000006|\n",
    "|COMISSIONADO|    RODRIGO PACHECO|     2022|          354035.3|\n",
    "|COMISSIONADO|      ELIZIANE GAMA|     2022|         348331.78|\n",
    "|COMISSIONADO|          OMAR AZIZ|     2022|         346076.54|\n",
    "|COMISSIONADO|   DANIELLA RIBEIRO|     2022| 322125.6400000001|\n",
    "|COMISSIONADO|     SÉRGIO PETECÃO|     2022|321905.13999999996|\n",
    "|COMISSIONADO|      EDUARDO BRAGA|     2022| 320903.5000000001|\n",
    "|COMISSIONADO|       ACIR GURGACZ|     2022|         318376.64|\n",
    "\"\"\""
   ]
  },
  {
   "cell_type": "code",
   "execution_count": 19,
   "metadata": {},
   "outputs": [],
   "source": [
    "dataframe_string = dataframe_string.replace(\"+\", \"|\")"
   ]
  },
  {
   "cell_type": "code",
   "execution_count": 20,
   "metadata": {},
   "outputs": [
    {
     "name": "stdout",
     "output_type": "stream",
     "text": [
      "\n",
      "|     VINCULO|            SENADOR|FILE_YEAR|             TOTAL|\n",
      "|------------|-------------------|---------|------------------|\n",
      "|COMISSIONADO|      NELSINHO TRAD|     2022|465207.24000000034|\n",
      "|COMISSIONADO|       IZALCI LUCAS|     2022| 455605.4900000002|\n",
      "|COMISSIONADO|      ROBERTO ROCHA|     2022|442890.07000000024|\n",
      "|COMISSIONADO|      LUCAS BARRETO|     2022| 407766.0100000003|\n",
      "|COMISSIONADO|WELLINGTON FAGUNDES|     2022| 399503.8000000001|\n",
      "|COMISSIONADO|      EDUARDO GOMES|     2022| 374672.4600000002|\n",
      "|COMISSIONADO|    ELIANE NOGUEIRA|     2022|          369411.3|\n",
      "|COMISSIONADO|        KÁTIA ABREU|     2022|         367074.37|\n",
      "|COMISSIONADO|     MARCOS ROGÉRIO|     2022| 366343.5700000002|\n",
      "|COMISSIONADO|     ANGELO CORONEL|     2022|363337.54000000004|\n",
      "|COMISSIONADO|   ROGÉRIO CARVALHO|     2022| 361094.7800000002|\n",
      "|COMISSIONADO|    MECIAS DE JESUS|     2022| 355965.6800000001|\n",
      "|COMISSIONADO|    RENAN CALHEIROS|     2022|355070.50000000006|\n",
      "|COMISSIONADO|    RODRIGO PACHECO|     2022|          354035.3|\n",
      "|COMISSIONADO|      ELIZIANE GAMA|     2022|         348331.78|\n",
      "|COMISSIONADO|          OMAR AZIZ|     2022|         346076.54|\n",
      "|COMISSIONADO|   DANIELLA RIBEIRO|     2022| 322125.6400000001|\n",
      "|COMISSIONADO|     SÉRGIO PETECÃO|     2022|321905.13999999996|\n",
      "|COMISSIONADO|      EDUARDO BRAGA|     2022| 320903.5000000001|\n",
      "|COMISSIONADO|       ACIR GURGACZ|     2022|         318376.64|\n",
      "\n"
     ]
    }
   ],
   "source": [
    "print(dataframe_string)"
   ]
  },
  {
   "cell_type": "code",
   "execution_count": null,
   "metadata": {},
   "outputs": [],
   "source": []
  }
 ],
 "metadata": {
  "kernelspec": {
   "display_name": "Python 3.9.13 ('data-pipelines-i3s506aI-py3.9')",
   "language": "python",
   "name": "python3"
  },
  "language_info": {
   "codemirror_mode": {
    "name": "ipython",
    "version": 3
   },
   "file_extension": ".py",
   "mimetype": "text/x-python",
   "name": "python",
   "nbconvert_exporter": "python",
   "pygments_lexer": "ipython3",
   "version": "3.9.13"
  },
  "orig_nbformat": 4,
  "vscode": {
   "interpreter": {
    "hash": "3cafc7890037a0e9a99686fb6a4e8565568d0efc1eb219781913809077281b3b"
   }
  }
 },
 "nbformat": 4,
 "nbformat_minor": 2
}
